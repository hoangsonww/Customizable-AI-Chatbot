{
 "cells": [
  {
   "cell_type": "markdown",
   "id": "3c84611d",
   "metadata": {},
   "source": [
    "# Customizable AI Chatbot\n",
    "\n",
    "This notebook provides setup instructions, usage examples, and integration demos for your Customizable AI Chatbot project."
   ]
  },
  {
   "cell_type": "markdown",
   "id": "c3e7bed1",
   "metadata": {},
   "source": [
    "## 1. Installation\n",
    "\n",
    "Install the required packages:"
   ]
  },
  {
   "cell_type": "code",
   "execution_count": null,
   "id": "d75103c7",
   "metadata": {},
   "outputs": [],
   "source": [
    "!pip install requests python-dotenv openai pinecone-client"
   ]
  },
  {
   "cell_type": "markdown",
   "id": "89ca2d6d",
   "metadata": {},
   "source": [
    "## 2. Environment Setup\n",
    "\n",
    "Create a `.env` file in your project root with:\n",
    "```bash\n",
    "OPENAI_API_KEY=your_openai_api_key\n",
    "ANTHROPIC_API_KEY=your_anthropic_api_key\n",
    "FIREWORKS_API_KEY=your_fireworks_api_key\n",
    "PINECONE_API_KEY=your_pinecone_api_key\n",
    "```"
   ]
  },
  {
   "cell_type": "markdown",
   "id": "3f2e44cf",
   "metadata": {},
   "source": [
    "Load environment variables:"
   ]
  },
  {
   "cell_type": "code",
   "execution_count": null,
   "id": "f975e8ea",
   "metadata": {},
   "outputs": [],
   "source": [
    "from dotenv import load_dotenv\n",
    "import os\n",
    "\n",
    "load_dotenv()\n",
    "print({\n",
    "    'OPENAI_API_KEY': os.getenv('OPENAI_API_KEY') is not None,\n",
    "    'PINECONE_API_KEY': os.getenv('PINECONE_API_KEY') is not None\n",
    "})"
   ]
  },
  {
   "cell_type": "markdown",
   "id": "4b68e8cb",
   "metadata": {},
   "source": [
    "## 3. Chat API Example\n",
    "\n",
    "Send a message to your running Next.js API:"
   ]
  },
  {
   "cell_type": "code",
   "execution_count": null,
   "id": "d17e5b34",
   "metadata": {},
   "outputs": [],
   "source": [
    "import requests\n",
    "\n",
    "API_URL = \"http://localhost:3000/api/chat\"\n",
    "response = requests.post(API_URL, json={\"message\": \"Hello, chatbot!\"})\n",
    "data = response.json()\n",
    "print(\"Status:\", response.status_code)\n",
    "print(\"Reply:\", data.get('reply'))"
   ]
  },
  {
   "cell_type": "markdown",
   "id": "7f03705b",
   "metadata": {},
   "source": [
    "## 4. RAG Summarization Utility\n",
    "\n",
    "Example usage of `summarizeDocument` from your `lib/rag` module:"
   ]
  },
  {
   "cell_type": "code",
   "execution_count": null,
   "id": "6b8285de",
   "metadata": {},
   "outputs": [],
   "source": [
    "# from lib.rag import summarizeDocument  # adjust import path as needed\n",
    "\n",
    "def summarizeDocument(text: str) -> str:\n",
    "    # placeholder implementation\n",
    "    return text[:100] + '...'\n",
    "\n",
    "print(summarizeDocument(\"This is a test document about AI, demonstrating how summarization works.\"))"
   ]
  },
  {
   "cell_type": "markdown",
   "id": "154e0473",
   "metadata": {},
   "source": [
    "## 5. OpenAI Integration\n",
    "\n",
    "Generate a completion via OpenAI:"
   ]
  },
  {
   "cell_type": "code",
   "execution_count": null,
   "id": "48567a9f",
   "metadata": {},
   "outputs": [],
   "source": [
    "import openai\n",
    "\n",
    "openai.api_key = os.getenv('OPENAI_API_KEY')\n",
    "\n",
    "response = openai.ChatCompletion.create(\n",
    "    model=\"gpt-4o\",\n",
    "    messages=[{\"role\": \"user\", \"content\": \"What is the capital of France?\"}]\n",
    ")\n",
    "print(response.choices[0].message.content)"
   ]
  },
  {
   "cell_type": "markdown",
   "id": "2cfcb1c6",
   "metadata": {},
   "source": [
    "## 6. Pinecone Integration\n",
    "\n",
    "Initialize Pinecone and list indexes:"
   ]
  },
  {
   "cell_type": "code",
   "execution_count": null,
   "id": "ea276246",
   "metadata": {},
   "outputs": [],
   "source": [
    "import pinecone\n",
    "\n",
    "pinecone_api_key = os.getenv('PINECONE_API_KEY')\n",
    "pinecone.init(api_key=pinecone_api_key, environment='us-west1-gcp')\n",
    "print(pinecone.list_indexes())"
   ]
  },
  {
   "cell_type": "markdown",
   "id": "cf67ffb8",
   "metadata": {},
   "source": [
    "## Conclusion\n",
    "\n",
    "This notebook demonstrates core interactions with your Customizable AI Chatbot project. Customize and extend as needed!"
   ]
  }
 ],
 "metadata": {},
 "nbformat": 4,
 "nbformat_minor": 5
}
